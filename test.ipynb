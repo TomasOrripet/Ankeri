{
 "cells": [
  {
   "cell_type": "code",
   "execution_count": 7,
   "metadata": {},
   "outputs": [
    {
     "data": {
      "text/html": [
       "<div>\n",
       "<style scoped>\n",
       "    .dataframe tbody tr th:only-of-type {\n",
       "        vertical-align: middle;\n",
       "    }\n",
       "\n",
       "    .dataframe tbody tr th {\n",
       "        vertical-align: top;\n",
       "    }\n",
       "\n",
       "    .dataframe thead th {\n",
       "        text-align: right;\n",
       "    }\n",
       "</style>\n",
       "<table border=\"1\" class=\"dataframe\">\n",
       "  <thead>\n",
       "    <tr style=\"text-align: right;\">\n",
       "      <th></th>\n",
       "      <th>imo</th>\n",
       "      <th>mainEngineConsumption</th>\n",
       "      <th>DistanceOverGround</th>\n",
       "      <th>Speed</th>\n",
       "    </tr>\n",
       "  </thead>\n",
       "  <tbody>\n",
       "    <tr>\n",
       "      <th>0</th>\n",
       "      <td>9375252</td>\n",
       "      <td>2748.810759</td>\n",
       "      <td>4307.688280</td>\n",
       "      <td>1460.277283</td>\n",
       "    </tr>\n",
       "    <tr>\n",
       "      <th>1</th>\n",
       "      <td>9429194</td>\n",
       "      <td>2587.028225</td>\n",
       "      <td>5217.820708</td>\n",
       "      <td>1390.933682</td>\n",
       "    </tr>\n",
       "    <tr>\n",
       "      <th>2</th>\n",
       "      <td>9589085</td>\n",
       "      <td>2747.758417</td>\n",
       "      <td>4565.728563</td>\n",
       "      <td>1445.190542</td>\n",
       "    </tr>\n",
       "    <tr>\n",
       "      <th>3</th>\n",
       "      <td>9589621</td>\n",
       "      <td>2727.085176</td>\n",
       "      <td>5046.517550</td>\n",
       "      <td>1411.736285</td>\n",
       "    </tr>\n",
       "    <tr>\n",
       "      <th>4</th>\n",
       "      <td>9589633</td>\n",
       "      <td>2651.854120</td>\n",
       "      <td>4088.696271</td>\n",
       "      <td>1357.934866</td>\n",
       "    </tr>\n",
       "  </tbody>\n",
       "</table>\n",
       "</div>"
      ],
      "text/plain": [
       "       imo  mainEngineConsumption  DistanceOverGround        Speed\n",
       "0  9375252            2748.810759         4307.688280  1460.277283\n",
       "1  9429194            2587.028225         5217.820708  1390.933682\n",
       "2  9589085            2747.758417         4565.728563  1445.190542\n",
       "3  9589621            2727.085176         5046.517550  1411.736285\n",
       "4  9589633            2651.854120         4088.696271  1357.934866"
      ]
     },
     "execution_count": 7,
     "metadata": {},
     "output_type": "execute_result"
    }
   ],
   "source": [
    "import pandas as pd\n",
    "\n",
    "df = pd.read_csv(\"shipdata.csv\",delimiter=\";\")\n",
    "df = df.groupby('imo',as_index=False)[[\"mainEngineConsumption\",\"DistanceOverGround\",\"Speed\"]].sum()\n",
    "df.head()"
   ]
  }
 ],
 "metadata": {
  "kernelspec": {
   "display_name": "Python 3",
   "language": "python",
   "name": "python3"
  },
  "language_info": {
   "codemirror_mode": {
    "name": "ipython",
    "version": 3
   },
   "file_extension": ".py",
   "mimetype": "text/x-python",
   "name": "python",
   "nbconvert_exporter": "python",
   "pygments_lexer": "ipython3",
   "version": "3.11.2"
  }
 },
 "nbformat": 4,
 "nbformat_minor": 2
}
